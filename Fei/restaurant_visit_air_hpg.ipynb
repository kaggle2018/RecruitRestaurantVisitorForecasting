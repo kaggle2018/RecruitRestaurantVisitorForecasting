{
 "cells": [
  {
   "cell_type": "markdown",
   "metadata": {},
   "source": [
    "# Import air data"
   ]
  },
  {
   "cell_type": "code",
   "execution_count": 2,
   "metadata": {},
   "outputs": [],
   "source": [
    "import dask\n",
    "import re\n",
    "import dask\n",
    "import numpy as np\n",
    "import pandas as pd\n",
    "import math\n",
    "import matplotlib.pyplot as plt"
   ]
  },
  {
   "cell_type": "code",
   "execution_count": 3,
   "metadata": {},
   "outputs": [],
   "source": [
    "#read & preprocess files\n",
    "#reserve\n",
    "df_air_reserve=pd.read_csv('~/Desktop/ml/restaurant_vistor/air_reserve.csv')\n",
    "df_air_reserve['visit_date']=df_air_reserve['visit_datetime'].str.split().str[0]\n",
    "df_air_reserve['visit_time']=df_air_reserve['visit_datetime'].str.split().str[1]\n",
    "df_air_reserve['reserve_date']=df_air_reserve['reserve_datetime'].str.split().str[0]\n",
    "df_air_reserve['reserve_time']=df_air_reserve['reserve_datetime'].str.split().str[1]\n",
    "# group by store_id & visit_date\n",
    "df_air_reserve_grouped=df_air_reserve.groupby(['air_store_id','visit_date']).sum()\n",
    "df_air_reserve_grouped=df_air_reserve_grouped.reset_index()\n",
    "\n",
    "#store info\n",
    "df_air_store_info=pd.read_csv('~/Desktop/ml/restaurant_vistor/air_store_info.csv')\n",
    "\n",
    "#visit\n",
    "df_air_visit_data=pd.read_csv('~/Desktop/ml/restaurant_vistor/air_visit_data.csv')\n",
    "\n",
    "#date info\n",
    "df_date_info=pd.read_csv('~/Desktop/ml/restaurant_vistor/date_info.csv')"
   ]
  },
  {
   "cell_type": "code",
   "execution_count": 4,
   "metadata": {},
   "outputs": [],
   "source": [
    "# join tables df_air_reserve_grouped, df_air_store_info & df_air_visit_data\n",
    "df_air=df_air_reserve_grouped.merge(df_air_store_info, left_on='air_store_id', right_on='air_store_id', how='outer')\n",
    "df_air=df_air.merge(df_air_visit_data, left_on=['air_store_id', 'visit_date'], right_on=['air_store_id', 'visit_date'], how='outer')\n",
    "\n",
    "# join date_info\n",
    "df_air=df_air.merge(df_date_info, left_on=['visit_date'], right_on=['calendar_date'], how='left')\n",
    "\n",
    "df_air.drop(columns='calendar_date', inplace=True)"
   ]
  },
  {
   "cell_type": "code",
   "execution_count": 5,
   "metadata": {},
   "outputs": [
    {
     "data": {
      "text/html": [
       "<div>\n",
       "<style scoped>\n",
       "    .dataframe tbody tr th:only-of-type {\n",
       "        vertical-align: middle;\n",
       "    }\n",
       "\n",
       "    .dataframe tbody tr th {\n",
       "        vertical-align: top;\n",
       "    }\n",
       "\n",
       "    .dataframe thead th {\n",
       "        text-align: right;\n",
       "    }\n",
       "</style>\n",
       "<table border=\"1\" class=\"dataframe\">\n",
       "  <thead>\n",
       "    <tr style=\"text-align: right;\">\n",
       "      <th></th>\n",
       "      <th>air_store_id</th>\n",
       "      <th>visit_date</th>\n",
       "      <th>reserve_visitors</th>\n",
       "      <th>air_genre_name</th>\n",
       "      <th>air_area_name</th>\n",
       "      <th>latitude</th>\n",
       "      <th>longitude</th>\n",
       "      <th>visitors</th>\n",
       "      <th>day_of_week</th>\n",
       "      <th>holiday_flg</th>\n",
       "    </tr>\n",
       "  </thead>\n",
       "  <tbody>\n",
       "    <tr>\n",
       "      <th>0</th>\n",
       "      <td>air_00a91d42b08b08d9</td>\n",
       "      <td>2016-10-31</td>\n",
       "      <td>2.0</td>\n",
       "      <td>Italian/French</td>\n",
       "      <td>Tōkyō-to Chiyoda-ku Kudanminami</td>\n",
       "      <td>35.694003</td>\n",
       "      <td>139.753595</td>\n",
       "      <td>26.0</td>\n",
       "      <td>Monday</td>\n",
       "      <td>0.0</td>\n",
       "    </tr>\n",
       "    <tr>\n",
       "      <th>1</th>\n",
       "      <td>air_00a91d42b08b08d9</td>\n",
       "      <td>2016-12-05</td>\n",
       "      <td>9.0</td>\n",
       "      <td>Italian/French</td>\n",
       "      <td>Tōkyō-to Chiyoda-ku Kudanminami</td>\n",
       "      <td>35.694003</td>\n",
       "      <td>139.753595</td>\n",
       "      <td>33.0</td>\n",
       "      <td>Monday</td>\n",
       "      <td>0.0</td>\n",
       "    </tr>\n",
       "    <tr>\n",
       "      <th>2</th>\n",
       "      <td>air_00a91d42b08b08d9</td>\n",
       "      <td>2016-12-14</td>\n",
       "      <td>18.0</td>\n",
       "      <td>Italian/French</td>\n",
       "      <td>Tōkyō-to Chiyoda-ku Kudanminami</td>\n",
       "      <td>35.694003</td>\n",
       "      <td>139.753595</td>\n",
       "      <td>30.0</td>\n",
       "      <td>Wednesday</td>\n",
       "      <td>0.0</td>\n",
       "    </tr>\n",
       "    <tr>\n",
       "      <th>3</th>\n",
       "      <td>air_00a91d42b08b08d9</td>\n",
       "      <td>2016-12-17</td>\n",
       "      <td>2.0</td>\n",
       "      <td>Italian/French</td>\n",
       "      <td>Tōkyō-to Chiyoda-ku Kudanminami</td>\n",
       "      <td>35.694003</td>\n",
       "      <td>139.753595</td>\n",
       "      <td>17.0</td>\n",
       "      <td>Saturday</td>\n",
       "      <td>0.0</td>\n",
       "    </tr>\n",
       "    <tr>\n",
       "      <th>4</th>\n",
       "      <td>air_00a91d42b08b08d9</td>\n",
       "      <td>2016-12-20</td>\n",
       "      <td>4.0</td>\n",
       "      <td>Italian/French</td>\n",
       "      <td>Tōkyō-to Chiyoda-ku Kudanminami</td>\n",
       "      <td>35.694003</td>\n",
       "      <td>139.753595</td>\n",
       "      <td>37.0</td>\n",
       "      <td>Tuesday</td>\n",
       "      <td>0.0</td>\n",
       "    </tr>\n",
       "    <tr>\n",
       "      <th>5</th>\n",
       "      <td>air_00a91d42b08b08d9</td>\n",
       "      <td>2017-02-18</td>\n",
       "      <td>9.0</td>\n",
       "      <td>Italian/French</td>\n",
       "      <td>Tōkyō-to Chiyoda-ku Kudanminami</td>\n",
       "      <td>35.694003</td>\n",
       "      <td>139.753595</td>\n",
       "      <td>18.0</td>\n",
       "      <td>Saturday</td>\n",
       "      <td>0.0</td>\n",
       "    </tr>\n",
       "    <tr>\n",
       "      <th>6</th>\n",
       "      <td>air_00a91d42b08b08d9</td>\n",
       "      <td>2017-02-23</td>\n",
       "      <td>12.0</td>\n",
       "      <td>Italian/French</td>\n",
       "      <td>Tōkyō-to Chiyoda-ku Kudanminami</td>\n",
       "      <td>35.694003</td>\n",
       "      <td>139.753595</td>\n",
       "      <td>40.0</td>\n",
       "      <td>Thursday</td>\n",
       "      <td>0.0</td>\n",
       "    </tr>\n",
       "    <tr>\n",
       "      <th>7</th>\n",
       "      <td>air_00a91d42b08b08d9</td>\n",
       "      <td>2017-03-01</td>\n",
       "      <td>3.0</td>\n",
       "      <td>Italian/French</td>\n",
       "      <td>Tōkyō-to Chiyoda-ku Kudanminami</td>\n",
       "      <td>35.694003</td>\n",
       "      <td>139.753595</td>\n",
       "      <td>17.0</td>\n",
       "      <td>Wednesday</td>\n",
       "      <td>0.0</td>\n",
       "    </tr>\n",
       "    <tr>\n",
       "      <th>8</th>\n",
       "      <td>air_00a91d42b08b08d9</td>\n",
       "      <td>2017-03-14</td>\n",
       "      <td>4.0</td>\n",
       "      <td>Italian/French</td>\n",
       "      <td>Tōkyō-to Chiyoda-ku Kudanminami</td>\n",
       "      <td>35.694003</td>\n",
       "      <td>139.753595</td>\n",
       "      <td>28.0</td>\n",
       "      <td>Tuesday</td>\n",
       "      <td>0.0</td>\n",
       "    </tr>\n",
       "    <tr>\n",
       "      <th>9</th>\n",
       "      <td>air_00a91d42b08b08d9</td>\n",
       "      <td>2017-03-21</td>\n",
       "      <td>3.0</td>\n",
       "      <td>Italian/French</td>\n",
       "      <td>Tōkyō-to Chiyoda-ku Kudanminami</td>\n",
       "      <td>35.694003</td>\n",
       "      <td>139.753595</td>\n",
       "      <td>28.0</td>\n",
       "      <td>Tuesday</td>\n",
       "      <td>0.0</td>\n",
       "    </tr>\n",
       "  </tbody>\n",
       "</table>\n",
       "</div>"
      ],
      "text/plain": [
       "           air_store_id  visit_date  reserve_visitors  air_genre_name  \\\n",
       "0  air_00a91d42b08b08d9  2016-10-31               2.0  Italian/French   \n",
       "1  air_00a91d42b08b08d9  2016-12-05               9.0  Italian/French   \n",
       "2  air_00a91d42b08b08d9  2016-12-14              18.0  Italian/French   \n",
       "3  air_00a91d42b08b08d9  2016-12-17               2.0  Italian/French   \n",
       "4  air_00a91d42b08b08d9  2016-12-20               4.0  Italian/French   \n",
       "5  air_00a91d42b08b08d9  2017-02-18               9.0  Italian/French   \n",
       "6  air_00a91d42b08b08d9  2017-02-23              12.0  Italian/French   \n",
       "7  air_00a91d42b08b08d9  2017-03-01               3.0  Italian/French   \n",
       "8  air_00a91d42b08b08d9  2017-03-14               4.0  Italian/French   \n",
       "9  air_00a91d42b08b08d9  2017-03-21               3.0  Italian/French   \n",
       "\n",
       "                     air_area_name   latitude   longitude  visitors  \\\n",
       "0  Tōkyō-to Chiyoda-ku Kudanminami  35.694003  139.753595      26.0   \n",
       "1  Tōkyō-to Chiyoda-ku Kudanminami  35.694003  139.753595      33.0   \n",
       "2  Tōkyō-to Chiyoda-ku Kudanminami  35.694003  139.753595      30.0   \n",
       "3  Tōkyō-to Chiyoda-ku Kudanminami  35.694003  139.753595      17.0   \n",
       "4  Tōkyō-to Chiyoda-ku Kudanminami  35.694003  139.753595      37.0   \n",
       "5  Tōkyō-to Chiyoda-ku Kudanminami  35.694003  139.753595      18.0   \n",
       "6  Tōkyō-to Chiyoda-ku Kudanminami  35.694003  139.753595      40.0   \n",
       "7  Tōkyō-to Chiyoda-ku Kudanminami  35.694003  139.753595      17.0   \n",
       "8  Tōkyō-to Chiyoda-ku Kudanminami  35.694003  139.753595      28.0   \n",
       "9  Tōkyō-to Chiyoda-ku Kudanminami  35.694003  139.753595      28.0   \n",
       "\n",
       "  day_of_week  holiday_flg  \n",
       "0      Monday          0.0  \n",
       "1      Monday          0.0  \n",
       "2   Wednesday          0.0  \n",
       "3    Saturday          0.0  \n",
       "4     Tuesday          0.0  \n",
       "5    Saturday          0.0  \n",
       "6    Thursday          0.0  \n",
       "7   Wednesday          0.0  \n",
       "8     Tuesday          0.0  \n",
       "9     Tuesday          0.0  "
      ]
     },
     "execution_count": 5,
     "metadata": {},
     "output_type": "execute_result"
    }
   ],
   "source": [
    "df_air.head(10)"
   ]
  },
  {
   "cell_type": "code",
   "execution_count": 5,
   "metadata": {},
   "outputs": [
    {
     "data": {
      "text/plain": [
       "(254389, 10)"
      ]
     },
     "execution_count": 5,
     "metadata": {},
     "output_type": "execute_result"
    }
   ],
   "source": [
    "df_air.shape"
   ]
  },
  {
   "cell_type": "markdown",
   "metadata": {},
   "source": [
    "# Import hpg data"
   ]
  },
  {
   "cell_type": "code",
   "execution_count": 6,
   "metadata": {},
   "outputs": [],
   "source": [
    "# reserve & visit data\n",
    "df_hpg_reserve=pd.read_csv('~/Desktop/ml/restaurant_vistor/hpg_reserve.csv')\n",
    "df_hpg_reserve['visit_date']=df_hpg_reserve['visit_datetime'].str.split().str[0]\n",
    "df_hpg_reserve['visit_time']=df_hpg_reserve['visit_datetime'].str.split().str[1]\n",
    "df_hpg_reserve['reserve_date']=df_hpg_reserve['reserve_datetime'].str.split().str[0]\n",
    "df_hpg_reserve['reserve_time']=df_hpg_reserve['reserve_datetime'].str.split().str[1]\n",
    "# group by store_id & visit_date\n",
    "df_hpg_reserve_grouped=df_hpg_reserve.groupby(['hpg_store_id', 'visit_date']).sum()\n",
    "df_hpg_reserve_grouped=df_hpg_reserve_grouped.reset_index()\n",
    "\n",
    "#store info\n",
    "df_hpg_store_info=pd.read_csv('~/Desktop/ml/restaurant_vistor/hpg_store_info.csv')\n",
    "\n",
    "# join tables df_hpg_reserve & df_hpg_store_info\n",
    "df_hpg=df_hpg_reserve_grouped.merge(df_hpg_store_info, on='hpg_store_id', how='outer')"
   ]
  },
  {
   "cell_type": "code",
   "execution_count": 7,
   "metadata": {
    "scrolled": true
   },
   "outputs": [
    {
     "data": {
      "text/html": [
       "<div>\n",
       "<style scoped>\n",
       "    .dataframe tbody tr th:only-of-type {\n",
       "        vertical-align: middle;\n",
       "    }\n",
       "\n",
       "    .dataframe tbody tr th {\n",
       "        vertical-align: top;\n",
       "    }\n",
       "\n",
       "    .dataframe thead th {\n",
       "        text-align: right;\n",
       "    }\n",
       "</style>\n",
       "<table border=\"1\" class=\"dataframe\">\n",
       "  <thead>\n",
       "    <tr style=\"text-align: right;\">\n",
       "      <th></th>\n",
       "      <th>hpg_store_id</th>\n",
       "      <th>visit_date</th>\n",
       "      <th>reserve_visitors</th>\n",
       "      <th>hpg_genre_name</th>\n",
       "      <th>hpg_area_name</th>\n",
       "      <th>latitude</th>\n",
       "      <th>longitude</th>\n",
       "    </tr>\n",
       "  </thead>\n",
       "  <tbody>\n",
       "    <tr>\n",
       "      <th>0</th>\n",
       "      <td>hpg_001112ef76b9802c</td>\n",
       "      <td>2016-02-26</td>\n",
       "      <td>9</td>\n",
       "      <td>NaN</td>\n",
       "      <td>NaN</td>\n",
       "      <td>NaN</td>\n",
       "      <td>NaN</td>\n",
       "    </tr>\n",
       "    <tr>\n",
       "      <th>1</th>\n",
       "      <td>hpg_001112ef76b9802c</td>\n",
       "      <td>2016-03-17</td>\n",
       "      <td>3</td>\n",
       "      <td>NaN</td>\n",
       "      <td>NaN</td>\n",
       "      <td>NaN</td>\n",
       "      <td>NaN</td>\n",
       "    </tr>\n",
       "    <tr>\n",
       "      <th>2</th>\n",
       "      <td>hpg_001112ef76b9802c</td>\n",
       "      <td>2016-03-31</td>\n",
       "      <td>5</td>\n",
       "      <td>NaN</td>\n",
       "      <td>NaN</td>\n",
       "      <td>NaN</td>\n",
       "      <td>NaN</td>\n",
       "    </tr>\n",
       "    <tr>\n",
       "      <th>3</th>\n",
       "      <td>hpg_001112ef76b9802c</td>\n",
       "      <td>2016-04-05</td>\n",
       "      <td>13</td>\n",
       "      <td>NaN</td>\n",
       "      <td>NaN</td>\n",
       "      <td>NaN</td>\n",
       "      <td>NaN</td>\n",
       "    </tr>\n",
       "    <tr>\n",
       "      <th>4</th>\n",
       "      <td>hpg_001112ef76b9802c</td>\n",
       "      <td>2016-04-18</td>\n",
       "      <td>9</td>\n",
       "      <td>NaN</td>\n",
       "      <td>NaN</td>\n",
       "      <td>NaN</td>\n",
       "      <td>NaN</td>\n",
       "    </tr>\n",
       "    <tr>\n",
       "      <th>5</th>\n",
       "      <td>hpg_001112ef76b9802c</td>\n",
       "      <td>2016-07-05</td>\n",
       "      <td>3</td>\n",
       "      <td>NaN</td>\n",
       "      <td>NaN</td>\n",
       "      <td>NaN</td>\n",
       "      <td>NaN</td>\n",
       "    </tr>\n",
       "    <tr>\n",
       "      <th>6</th>\n",
       "      <td>hpg_001112ef76b9802c</td>\n",
       "      <td>2016-07-14</td>\n",
       "      <td>5</td>\n",
       "      <td>NaN</td>\n",
       "      <td>NaN</td>\n",
       "      <td>NaN</td>\n",
       "      <td>NaN</td>\n",
       "    </tr>\n",
       "    <tr>\n",
       "      <th>7</th>\n",
       "      <td>hpg_001112ef76b9802c</td>\n",
       "      <td>2016-07-21</td>\n",
       "      <td>3</td>\n",
       "      <td>NaN</td>\n",
       "      <td>NaN</td>\n",
       "      <td>NaN</td>\n",
       "      <td>NaN</td>\n",
       "    </tr>\n",
       "    <tr>\n",
       "      <th>8</th>\n",
       "      <td>hpg_001112ef76b9802c</td>\n",
       "      <td>2016-07-26</td>\n",
       "      <td>3</td>\n",
       "      <td>NaN</td>\n",
       "      <td>NaN</td>\n",
       "      <td>NaN</td>\n",
       "      <td>NaN</td>\n",
       "    </tr>\n",
       "    <tr>\n",
       "      <th>9</th>\n",
       "      <td>hpg_001112ef76b9802c</td>\n",
       "      <td>2016-07-28</td>\n",
       "      <td>3</td>\n",
       "      <td>NaN</td>\n",
       "      <td>NaN</td>\n",
       "      <td>NaN</td>\n",
       "      <td>NaN</td>\n",
       "    </tr>\n",
       "  </tbody>\n",
       "</table>\n",
       "</div>"
      ],
      "text/plain": [
       "           hpg_store_id  visit_date  reserve_visitors hpg_genre_name  \\\n",
       "0  hpg_001112ef76b9802c  2016-02-26                 9            NaN   \n",
       "1  hpg_001112ef76b9802c  2016-03-17                 3            NaN   \n",
       "2  hpg_001112ef76b9802c  2016-03-31                 5            NaN   \n",
       "3  hpg_001112ef76b9802c  2016-04-05                13            NaN   \n",
       "4  hpg_001112ef76b9802c  2016-04-18                 9            NaN   \n",
       "5  hpg_001112ef76b9802c  2016-07-05                 3            NaN   \n",
       "6  hpg_001112ef76b9802c  2016-07-14                 5            NaN   \n",
       "7  hpg_001112ef76b9802c  2016-07-21                 3            NaN   \n",
       "8  hpg_001112ef76b9802c  2016-07-26                 3            NaN   \n",
       "9  hpg_001112ef76b9802c  2016-07-28                 3            NaN   \n",
       "\n",
       "  hpg_area_name  latitude  longitude  \n",
       "0           NaN       NaN        NaN  \n",
       "1           NaN       NaN        NaN  \n",
       "2           NaN       NaN        NaN  \n",
       "3           NaN       NaN        NaN  \n",
       "4           NaN       NaN        NaN  \n",
       "5           NaN       NaN        NaN  \n",
       "6           NaN       NaN        NaN  \n",
       "7           NaN       NaN        NaN  \n",
       "8           NaN       NaN        NaN  \n",
       "9           NaN       NaN        NaN  "
      ]
     },
     "execution_count": 7,
     "metadata": {},
     "output_type": "execute_result"
    }
   ],
   "source": [
    "df_hpg.head(10)"
   ]
  },
  {
   "cell_type": "code",
   "execution_count": 8,
   "metadata": {},
   "outputs": [
    {
     "data": {
      "text/plain": [
       "(1355053, 7)"
      ]
     },
     "execution_count": 8,
     "metadata": {},
     "output_type": "execute_result"
    }
   ],
   "source": [
    "df_hpg.shape"
   ]
  },
  {
   "cell_type": "markdown",
   "metadata": {},
   "source": [
    "# Join air and hpg data"
   ]
  },
  {
   "cell_type": "code",
   "execution_count": 9,
   "metadata": {},
   "outputs": [
    {
     "name": "stdout",
     "output_type": "stream",
     "text": [
      "829 13325\n"
     ]
    }
   ],
   "source": [
    "# check number of stores in each dataframe\n",
    "print(df_air['air_store_id'].nunique(), df_hpg['hpg_store_id'].nunique())"
   ]
  },
  {
   "cell_type": "code",
   "execution_count": 92,
   "metadata": {},
   "outputs": [],
   "source": [
    "df_store_id_relation=pd.read_csv('~/Desktop/ml/restaurant_vistor/store_id_relation.csv')"
   ]
  },
  {
   "cell_type": "code",
   "execution_count": 93,
   "metadata": {},
   "outputs": [
    {
     "data": {
      "text/html": [
       "<div>\n",
       "<style scoped>\n",
       "    .dataframe tbody tr th:only-of-type {\n",
       "        vertical-align: middle;\n",
       "    }\n",
       "\n",
       "    .dataframe tbody tr th {\n",
       "        vertical-align: top;\n",
       "    }\n",
       "\n",
       "    .dataframe thead th {\n",
       "        text-align: right;\n",
       "    }\n",
       "</style>\n",
       "<table border=\"1\" class=\"dataframe\">\n",
       "  <thead>\n",
       "    <tr style=\"text-align: right;\">\n",
       "      <th></th>\n",
       "      <th>air_store_id</th>\n",
       "      <th>hpg_store_id</th>\n",
       "    </tr>\n",
       "  </thead>\n",
       "  <tbody>\n",
       "    <tr>\n",
       "      <th>0</th>\n",
       "      <td>air_63b13c56b7201bd9</td>\n",
       "      <td>hpg_4bc649e72e2a239a</td>\n",
       "    </tr>\n",
       "    <tr>\n",
       "      <th>1</th>\n",
       "      <td>air_a24bf50c3e90d583</td>\n",
       "      <td>hpg_c34b496d0305a809</td>\n",
       "    </tr>\n",
       "    <tr>\n",
       "      <th>2</th>\n",
       "      <td>air_c7f78b4f3cba33ff</td>\n",
       "      <td>hpg_cd8ae0d9bbd58ff9</td>\n",
       "    </tr>\n",
       "    <tr>\n",
       "      <th>3</th>\n",
       "      <td>air_947eb2cae4f3e8f2</td>\n",
       "      <td>hpg_de24ea49dc25d6b8</td>\n",
       "    </tr>\n",
       "    <tr>\n",
       "      <th>4</th>\n",
       "      <td>air_965b2e0cf4119003</td>\n",
       "      <td>hpg_653238a84804d8e7</td>\n",
       "    </tr>\n",
       "    <tr>\n",
       "      <th>5</th>\n",
       "      <td>air_a38f25e3399d1b25</td>\n",
       "      <td>hpg_50378da9ffb9b6cd</td>\n",
       "    </tr>\n",
       "    <tr>\n",
       "      <th>6</th>\n",
       "      <td>air_3c938075889fc059</td>\n",
       "      <td>hpg_349b1b92f98b175e</td>\n",
       "    </tr>\n",
       "    <tr>\n",
       "      <th>7</th>\n",
       "      <td>air_68301bcb11e2f389</td>\n",
       "      <td>hpg_2c09f3abb2220659</td>\n",
       "    </tr>\n",
       "    <tr>\n",
       "      <th>8</th>\n",
       "      <td>air_5f6fa1b897fe80d5</td>\n",
       "      <td>hpg_40aff6385800ebb1</td>\n",
       "    </tr>\n",
       "    <tr>\n",
       "      <th>9</th>\n",
       "      <td>air_00a91d42b08b08d9</td>\n",
       "      <td>hpg_fbe603376b5980fc</td>\n",
       "    </tr>\n",
       "  </tbody>\n",
       "</table>\n",
       "</div>"
      ],
      "text/plain": [
       "           air_store_id          hpg_store_id\n",
       "0  air_63b13c56b7201bd9  hpg_4bc649e72e2a239a\n",
       "1  air_a24bf50c3e90d583  hpg_c34b496d0305a809\n",
       "2  air_c7f78b4f3cba33ff  hpg_cd8ae0d9bbd58ff9\n",
       "3  air_947eb2cae4f3e8f2  hpg_de24ea49dc25d6b8\n",
       "4  air_965b2e0cf4119003  hpg_653238a84804d8e7\n",
       "5  air_a38f25e3399d1b25  hpg_50378da9ffb9b6cd\n",
       "6  air_3c938075889fc059  hpg_349b1b92f98b175e\n",
       "7  air_68301bcb11e2f389  hpg_2c09f3abb2220659\n",
       "8  air_5f6fa1b897fe80d5  hpg_40aff6385800ebb1\n",
       "9  air_00a91d42b08b08d9  hpg_fbe603376b5980fc"
      ]
     },
     "execution_count": 93,
     "metadata": {},
     "output_type": "execute_result"
    }
   ],
   "source": [
    "df_store_id_relation.head(10)"
   ]
  },
  {
   "cell_type": "code",
   "execution_count": 96,
   "metadata": {},
   "outputs": [
    {
     "data": {
      "text/plain": [
       "(150, 2)"
      ]
     },
     "execution_count": 96,
     "metadata": {},
     "output_type": "execute_result"
    }
   ],
   "source": [
    "df_store_id_relation.shape"
   ]
  },
  {
   "cell_type": "code",
   "execution_count": 101,
   "metadata": {},
   "outputs": [
    {
     "data": {
      "text/plain": [
       "air_store_id    150\n",
       "dtype: int64"
      ]
     },
     "execution_count": 101,
     "metadata": {},
     "output_type": "execute_result"
    }
   ],
   "source": [
    "df_air['air_store_id'].to_frame().merge(df_store_id_relation['air_store_id'].to_frame(), on='air_store_id', how='right').nunique()"
   ]
  },
  {
   "cell_type": "code",
   "execution_count": 102,
   "metadata": {},
   "outputs": [
    {
     "data": {
      "text/plain": [
       "hpg_store_id    150\n",
       "dtype: int64"
      ]
     },
     "execution_count": 102,
     "metadata": {},
     "output_type": "execute_result"
    }
   ],
   "source": [
    "df_hpg['hpg_store_id'].to_frame().merge(df_store_id_relation['hpg_store_id'].to_frame(), on='hpg_store_id', how='right').nunique()"
   ]
  },
  {
   "cell_type": "code",
   "execution_count": 114,
   "metadata": {},
   "outputs": [],
   "source": [
    "df=df_air.merge(df_store_id_relation, on='air_store_id', how='left')\n",
    "df=df.merge(df_hpg, on=['hpg_store_id', 'visit_date'], how='left')"
   ]
  },
  {
   "cell_type": "code",
   "execution_count": 109,
   "metadata": {},
   "outputs": [
    {
     "data": {
      "text/plain": [
       "(254389, 18)"
      ]
     },
     "execution_count": 109,
     "metadata": {},
     "output_type": "execute_result"
    }
   ],
   "source": [
    "df.shape"
   ]
  },
  {
   "cell_type": "code",
   "execution_count": 116,
   "metadata": {},
   "outputs": [
    {
     "data": {
      "text/html": [
       "<div>\n",
       "<style scoped>\n",
       "    .dataframe tbody tr th:only-of-type {\n",
       "        vertical-align: middle;\n",
       "    }\n",
       "\n",
       "    .dataframe tbody tr th {\n",
       "        vertical-align: top;\n",
       "    }\n",
       "\n",
       "    .dataframe thead th {\n",
       "        text-align: right;\n",
       "    }\n",
       "</style>\n",
       "<table border=\"1\" class=\"dataframe\">\n",
       "  <thead>\n",
       "    <tr style=\"text-align: right;\">\n",
       "      <th></th>\n",
       "      <th>air_store_id</th>\n",
       "      <th>visit_date</th>\n",
       "      <th>reserve_visitors_x</th>\n",
       "      <th>air_genre_name</th>\n",
       "      <th>air_area_name</th>\n",
       "      <th>latitude_x</th>\n",
       "      <th>longitude_x</th>\n",
       "      <th>visitors</th>\n",
       "      <th>day_of_week</th>\n",
       "      <th>holiday_flg</th>\n",
       "      <th>hpg_store_id</th>\n",
       "      <th>reserve_visitors_y</th>\n",
       "      <th>hpg_genre_name</th>\n",
       "      <th>hpg_area_name</th>\n",
       "      <th>latitude_y</th>\n",
       "      <th>longitude_y</th>\n",
       "    </tr>\n",
       "  </thead>\n",
       "  <tbody>\n",
       "    <tr>\n",
       "      <th>115485</th>\n",
       "      <td>air_709262d948dd0b6e</td>\n",
       "      <td>2017-01-29</td>\n",
       "      <td>NaN</td>\n",
       "      <td>NaN</td>\n",
       "      <td>NaN</td>\n",
       "      <td>NaN</td>\n",
       "      <td>NaN</td>\n",
       "      <td>42.0</td>\n",
       "      <td>Sunday</td>\n",
       "      <td>0.0</td>\n",
       "      <td>NaN</td>\n",
       "      <td>NaN</td>\n",
       "      <td>NaN</td>\n",
       "      <td>NaN</td>\n",
       "      <td>NaN</td>\n",
       "      <td>NaN</td>\n",
       "    </tr>\n",
       "    <tr>\n",
       "      <th>253994</th>\n",
       "      <td>air_c7d30ab0e07f31d5</td>\n",
       "      <td>2016-10-19</td>\n",
       "      <td>NaN</td>\n",
       "      <td>NaN</td>\n",
       "      <td>NaN</td>\n",
       "      <td>NaN</td>\n",
       "      <td>NaN</td>\n",
       "      <td>21.0</td>\n",
       "      <td>Wednesday</td>\n",
       "      <td>0.0</td>\n",
       "      <td>NaN</td>\n",
       "      <td>NaN</td>\n",
       "      <td>NaN</td>\n",
       "      <td>NaN</td>\n",
       "      <td>NaN</td>\n",
       "      <td>NaN</td>\n",
       "    </tr>\n",
       "    <tr>\n",
       "      <th>22938</th>\n",
       "      <td>air_bedd35489e666605</td>\n",
       "      <td>2017-04-20</td>\n",
       "      <td>2.0</td>\n",
       "      <td>Western food</td>\n",
       "      <td>Tōkyō-to Chūō-ku Tsukiji</td>\n",
       "      <td>35.670651</td>\n",
       "      <td>139.771861</td>\n",
       "      <td>47.0</td>\n",
       "      <td>Thursday</td>\n",
       "      <td>0.0</td>\n",
       "      <td>hpg_8f5331198ed1781d</td>\n",
       "      <td>NaN</td>\n",
       "      <td>NaN</td>\n",
       "      <td>NaN</td>\n",
       "      <td>NaN</td>\n",
       "      <td>NaN</td>\n",
       "    </tr>\n",
       "    <tr>\n",
       "      <th>201579</th>\n",
       "      <td>air_83db5aff8f50478e</td>\n",
       "      <td>2016-09-23</td>\n",
       "      <td>NaN</td>\n",
       "      <td>NaN</td>\n",
       "      <td>NaN</td>\n",
       "      <td>NaN</td>\n",
       "      <td>NaN</td>\n",
       "      <td>3.0</td>\n",
       "      <td>Friday</td>\n",
       "      <td>0.0</td>\n",
       "      <td>NaN</td>\n",
       "      <td>NaN</td>\n",
       "      <td>NaN</td>\n",
       "      <td>NaN</td>\n",
       "      <td>NaN</td>\n",
       "      <td>NaN</td>\n",
       "    </tr>\n",
       "    <tr>\n",
       "      <th>11175</th>\n",
       "      <td>air_55c3627912b9c849</td>\n",
       "      <td>2017-03-13</td>\n",
       "      <td>14.0</td>\n",
       "      <td>Italian/French</td>\n",
       "      <td>Fukuoka-ken Fukuoka-shi Hakata Ekimae</td>\n",
       "      <td>33.591358</td>\n",
       "      <td>130.414878</td>\n",
       "      <td>15.0</td>\n",
       "      <td>Monday</td>\n",
       "      <td>0.0</td>\n",
       "      <td>hpg_9d140ea335b9efd4</td>\n",
       "      <td>NaN</td>\n",
       "      <td>NaN</td>\n",
       "      <td>NaN</td>\n",
       "      <td>NaN</td>\n",
       "      <td>NaN</td>\n",
       "    </tr>\n",
       "    <tr>\n",
       "      <th>171813</th>\n",
       "      <td>air_d186b2cb0b9ce022</td>\n",
       "      <td>2017-02-04</td>\n",
       "      <td>NaN</td>\n",
       "      <td>NaN</td>\n",
       "      <td>NaN</td>\n",
       "      <td>NaN</td>\n",
       "      <td>NaN</td>\n",
       "      <td>12.0</td>\n",
       "      <td>Saturday</td>\n",
       "      <td>0.0</td>\n",
       "      <td>NaN</td>\n",
       "      <td>NaN</td>\n",
       "      <td>NaN</td>\n",
       "      <td>NaN</td>\n",
       "      <td>NaN</td>\n",
       "      <td>NaN</td>\n",
       "    </tr>\n",
       "    <tr>\n",
       "      <th>130950</th>\n",
       "      <td>air_fcd4492c83f1c6b9</td>\n",
       "      <td>2016-11-13</td>\n",
       "      <td>NaN</td>\n",
       "      <td>NaN</td>\n",
       "      <td>NaN</td>\n",
       "      <td>NaN</td>\n",
       "      <td>NaN</td>\n",
       "      <td>41.0</td>\n",
       "      <td>Sunday</td>\n",
       "      <td>0.0</td>\n",
       "      <td>hpg_218a1ea95def8ea3</td>\n",
       "      <td>NaN</td>\n",
       "      <td>NaN</td>\n",
       "      <td>NaN</td>\n",
       "      <td>NaN</td>\n",
       "      <td>NaN</td>\n",
       "    </tr>\n",
       "    <tr>\n",
       "      <th>250806</th>\n",
       "      <td>air_7d65049f9d275c0d</td>\n",
       "      <td>2016-08-05</td>\n",
       "      <td>NaN</td>\n",
       "      <td>NaN</td>\n",
       "      <td>NaN</td>\n",
       "      <td>NaN</td>\n",
       "      <td>NaN</td>\n",
       "      <td>6.0</td>\n",
       "      <td>Friday</td>\n",
       "      <td>0.0</td>\n",
       "      <td>NaN</td>\n",
       "      <td>NaN</td>\n",
       "      <td>NaN</td>\n",
       "      <td>NaN</td>\n",
       "      <td>NaN</td>\n",
       "      <td>NaN</td>\n",
       "    </tr>\n",
       "    <tr>\n",
       "      <th>193799</th>\n",
       "      <td>air_138ee734ac79ff90</td>\n",
       "      <td>2016-02-08</td>\n",
       "      <td>NaN</td>\n",
       "      <td>NaN</td>\n",
       "      <td>NaN</td>\n",
       "      <td>NaN</td>\n",
       "      <td>NaN</td>\n",
       "      <td>9.0</td>\n",
       "      <td>Monday</td>\n",
       "      <td>0.0</td>\n",
       "      <td>NaN</td>\n",
       "      <td>NaN</td>\n",
       "      <td>NaN</td>\n",
       "      <td>NaN</td>\n",
       "      <td>NaN</td>\n",
       "      <td>NaN</td>\n",
       "    </tr>\n",
       "    <tr>\n",
       "      <th>149400</th>\n",
       "      <td>air_e89735e80d614a7e</td>\n",
       "      <td>2017-03-27</td>\n",
       "      <td>NaN</td>\n",
       "      <td>NaN</td>\n",
       "      <td>NaN</td>\n",
       "      <td>NaN</td>\n",
       "      <td>NaN</td>\n",
       "      <td>23.0</td>\n",
       "      <td>Monday</td>\n",
       "      <td>0.0</td>\n",
       "      <td>hpg_b0cbb707b862dde7</td>\n",
       "      <td>2.0</td>\n",
       "      <td>NaN</td>\n",
       "      <td>NaN</td>\n",
       "      <td>NaN</td>\n",
       "      <td>NaN</td>\n",
       "    </tr>\n",
       "  </tbody>\n",
       "</table>\n",
       "</div>"
      ],
      "text/plain": [
       "                air_store_id  visit_date  reserve_visitors_x  air_genre_name  \\\n",
       "115485  air_709262d948dd0b6e  2017-01-29                 NaN             NaN   \n",
       "253994  air_c7d30ab0e07f31d5  2016-10-19                 NaN             NaN   \n",
       "22938   air_bedd35489e666605  2017-04-20                 2.0    Western food   \n",
       "201579  air_83db5aff8f50478e  2016-09-23                 NaN             NaN   \n",
       "11175   air_55c3627912b9c849  2017-03-13                14.0  Italian/French   \n",
       "171813  air_d186b2cb0b9ce022  2017-02-04                 NaN             NaN   \n",
       "130950  air_fcd4492c83f1c6b9  2016-11-13                 NaN             NaN   \n",
       "250806  air_7d65049f9d275c0d  2016-08-05                 NaN             NaN   \n",
       "193799  air_138ee734ac79ff90  2016-02-08                 NaN             NaN   \n",
       "149400  air_e89735e80d614a7e  2017-03-27                 NaN             NaN   \n",
       "\n",
       "                                air_area_name  latitude_x  longitude_x  \\\n",
       "115485                                    NaN         NaN          NaN   \n",
       "253994                                    NaN         NaN          NaN   \n",
       "22938                Tōkyō-to Chūō-ku Tsukiji   35.670651   139.771861   \n",
       "201579                                    NaN         NaN          NaN   \n",
       "11175   Fukuoka-ken Fukuoka-shi Hakata Ekimae   33.591358   130.414878   \n",
       "171813                                    NaN         NaN          NaN   \n",
       "130950                                    NaN         NaN          NaN   \n",
       "250806                                    NaN         NaN          NaN   \n",
       "193799                                    NaN         NaN          NaN   \n",
       "149400                                    NaN         NaN          NaN   \n",
       "\n",
       "        visitors day_of_week  holiday_flg          hpg_store_id  \\\n",
       "115485      42.0      Sunday          0.0                   NaN   \n",
       "253994      21.0   Wednesday          0.0                   NaN   \n",
       "22938       47.0    Thursday          0.0  hpg_8f5331198ed1781d   \n",
       "201579       3.0      Friday          0.0                   NaN   \n",
       "11175       15.0      Monday          0.0  hpg_9d140ea335b9efd4   \n",
       "171813      12.0    Saturday          0.0                   NaN   \n",
       "130950      41.0      Sunday          0.0  hpg_218a1ea95def8ea3   \n",
       "250806       6.0      Friday          0.0                   NaN   \n",
       "193799       9.0      Monday          0.0                   NaN   \n",
       "149400      23.0      Monday          0.0  hpg_b0cbb707b862dde7   \n",
       "\n",
       "        reserve_visitors_y hpg_genre_name hpg_area_name  latitude_y  \\\n",
       "115485                 NaN            NaN           NaN         NaN   \n",
       "253994                 NaN            NaN           NaN         NaN   \n",
       "22938                  NaN            NaN           NaN         NaN   \n",
       "201579                 NaN            NaN           NaN         NaN   \n",
       "11175                  NaN            NaN           NaN         NaN   \n",
       "171813                 NaN            NaN           NaN         NaN   \n",
       "130950                 NaN            NaN           NaN         NaN   \n",
       "250806                 NaN            NaN           NaN         NaN   \n",
       "193799                 NaN            NaN           NaN         NaN   \n",
       "149400                 2.0            NaN           NaN         NaN   \n",
       "\n",
       "        longitude_y  \n",
       "115485          NaN  \n",
       "253994          NaN  \n",
       "22938           NaN  \n",
       "201579          NaN  \n",
       "11175           NaN  \n",
       "171813          NaN  \n",
       "130950          NaN  \n",
       "250806          NaN  \n",
       "193799          NaN  \n",
       "149400          NaN  "
      ]
     },
     "execution_count": 116,
     "metadata": {},
     "output_type": "execute_result"
    }
   ],
   "source": [
    "df.sample(10)"
   ]
  },
  {
   "cell_type": "markdown",
   "metadata": {},
   "source": [
    "# Compare air & hpg & submission"
   ]
  },
  {
   "cell_type": "markdown",
   "metadata": {},
   "source": [
    "### submission data"
   ]
  },
  {
   "cell_type": "code",
   "execution_count": 103,
   "metadata": {},
   "outputs": [],
   "source": [
    "df_submission=pd.read_csv('~/Desktop/ml/restaurant_vistor/sample_submission.csv')"
   ]
  },
  {
   "cell_type": "code",
   "execution_count": 104,
   "metadata": {},
   "outputs": [
    {
     "data": {
      "text/plain": [
       "(32019, 2)"
      ]
     },
     "execution_count": 104,
     "metadata": {},
     "output_type": "execute_result"
    }
   ],
   "source": [
    "df_submission.shape"
   ]
  },
  {
   "cell_type": "code",
   "execution_count": 42,
   "metadata": {},
   "outputs": [
    {
     "data": {
      "text/html": [
       "<div>\n",
       "<style scoped>\n",
       "    .dataframe tbody tr th:only-of-type {\n",
       "        vertical-align: middle;\n",
       "    }\n",
       "\n",
       "    .dataframe tbody tr th {\n",
       "        vertical-align: top;\n",
       "    }\n",
       "\n",
       "    .dataframe thead th {\n",
       "        text-align: right;\n",
       "    }\n",
       "</style>\n",
       "<table border=\"1\" class=\"dataframe\">\n",
       "  <thead>\n",
       "    <tr style=\"text-align: right;\">\n",
       "      <th></th>\n",
       "      <th>id</th>\n",
       "      <th>visitors</th>\n",
       "    </tr>\n",
       "  </thead>\n",
       "  <tbody>\n",
       "    <tr>\n",
       "      <th>0</th>\n",
       "      <td>air_00a91d42b08b08d9_2017-04-23</td>\n",
       "      <td>0</td>\n",
       "    </tr>\n",
       "    <tr>\n",
       "      <th>1</th>\n",
       "      <td>air_00a91d42b08b08d9_2017-04-24</td>\n",
       "      <td>0</td>\n",
       "    </tr>\n",
       "    <tr>\n",
       "      <th>2</th>\n",
       "      <td>air_00a91d42b08b08d9_2017-04-25</td>\n",
       "      <td>0</td>\n",
       "    </tr>\n",
       "    <tr>\n",
       "      <th>3</th>\n",
       "      <td>air_00a91d42b08b08d9_2017-04-26</td>\n",
       "      <td>0</td>\n",
       "    </tr>\n",
       "    <tr>\n",
       "      <th>4</th>\n",
       "      <td>air_00a91d42b08b08d9_2017-04-27</td>\n",
       "      <td>0</td>\n",
       "    </tr>\n",
       "    <tr>\n",
       "      <th>5</th>\n",
       "      <td>air_00a91d42b08b08d9_2017-04-28</td>\n",
       "      <td>0</td>\n",
       "    </tr>\n",
       "    <tr>\n",
       "      <th>6</th>\n",
       "      <td>air_00a91d42b08b08d9_2017-04-29</td>\n",
       "      <td>0</td>\n",
       "    </tr>\n",
       "    <tr>\n",
       "      <th>7</th>\n",
       "      <td>air_00a91d42b08b08d9_2017-04-30</td>\n",
       "      <td>0</td>\n",
       "    </tr>\n",
       "    <tr>\n",
       "      <th>8</th>\n",
       "      <td>air_00a91d42b08b08d9_2017-05-01</td>\n",
       "      <td>0</td>\n",
       "    </tr>\n",
       "    <tr>\n",
       "      <th>9</th>\n",
       "      <td>air_00a91d42b08b08d9_2017-05-02</td>\n",
       "      <td>0</td>\n",
       "    </tr>\n",
       "  </tbody>\n",
       "</table>\n",
       "</div>"
      ],
      "text/plain": [
       "                                id  visitors\n",
       "0  air_00a91d42b08b08d9_2017-04-23         0\n",
       "1  air_00a91d42b08b08d9_2017-04-24         0\n",
       "2  air_00a91d42b08b08d9_2017-04-25         0\n",
       "3  air_00a91d42b08b08d9_2017-04-26         0\n",
       "4  air_00a91d42b08b08d9_2017-04-27         0\n",
       "5  air_00a91d42b08b08d9_2017-04-28         0\n",
       "6  air_00a91d42b08b08d9_2017-04-29         0\n",
       "7  air_00a91d42b08b08d9_2017-04-30         0\n",
       "8  air_00a91d42b08b08d9_2017-05-01         0\n",
       "9  air_00a91d42b08b08d9_2017-05-02         0"
      ]
     },
     "execution_count": 42,
     "metadata": {},
     "output_type": "execute_result"
    }
   ],
   "source": [
    "df_submission.head(10)"
   ]
  },
  {
   "cell_type": "code",
   "execution_count": 52,
   "metadata": {},
   "outputs": [
    {
     "data": {
      "text/html": [
       "<div>\n",
       "<style scoped>\n",
       "    .dataframe tbody tr th:only-of-type {\n",
       "        vertical-align: middle;\n",
       "    }\n",
       "\n",
       "    .dataframe tbody tr th {\n",
       "        vertical-align: top;\n",
       "    }\n",
       "\n",
       "    .dataframe thead th {\n",
       "        text-align: right;\n",
       "    }\n",
       "</style>\n",
       "<table border=\"1\" class=\"dataframe\">\n",
       "  <thead>\n",
       "    <tr style=\"text-align: right;\">\n",
       "      <th></th>\n",
       "      <th>visitors</th>\n",
       "      <th>air_store_id</th>\n",
       "      <th>visit_date</th>\n",
       "    </tr>\n",
       "  </thead>\n",
       "  <tbody>\n",
       "    <tr>\n",
       "      <th>0</th>\n",
       "      <td>0</td>\n",
       "      <td>air_00a91d42b08b08d9</td>\n",
       "      <td>2017-04-23</td>\n",
       "    </tr>\n",
       "    <tr>\n",
       "      <th>1</th>\n",
       "      <td>0</td>\n",
       "      <td>air_00a91d42b08b08d9</td>\n",
       "      <td>2017-04-24</td>\n",
       "    </tr>\n",
       "    <tr>\n",
       "      <th>2</th>\n",
       "      <td>0</td>\n",
       "      <td>air_00a91d42b08b08d9</td>\n",
       "      <td>2017-04-25</td>\n",
       "    </tr>\n",
       "    <tr>\n",
       "      <th>3</th>\n",
       "      <td>0</td>\n",
       "      <td>air_00a91d42b08b08d9</td>\n",
       "      <td>2017-04-26</td>\n",
       "    </tr>\n",
       "    <tr>\n",
       "      <th>4</th>\n",
       "      <td>0</td>\n",
       "      <td>air_00a91d42b08b08d9</td>\n",
       "      <td>2017-04-27</td>\n",
       "    </tr>\n",
       "    <tr>\n",
       "      <th>5</th>\n",
       "      <td>0</td>\n",
       "      <td>air_00a91d42b08b08d9</td>\n",
       "      <td>2017-04-28</td>\n",
       "    </tr>\n",
       "    <tr>\n",
       "      <th>6</th>\n",
       "      <td>0</td>\n",
       "      <td>air_00a91d42b08b08d9</td>\n",
       "      <td>2017-04-29</td>\n",
       "    </tr>\n",
       "    <tr>\n",
       "      <th>7</th>\n",
       "      <td>0</td>\n",
       "      <td>air_00a91d42b08b08d9</td>\n",
       "      <td>2017-04-30</td>\n",
       "    </tr>\n",
       "    <tr>\n",
       "      <th>8</th>\n",
       "      <td>0</td>\n",
       "      <td>air_00a91d42b08b08d9</td>\n",
       "      <td>2017-05-01</td>\n",
       "    </tr>\n",
       "    <tr>\n",
       "      <th>9</th>\n",
       "      <td>0</td>\n",
       "      <td>air_00a91d42b08b08d9</td>\n",
       "      <td>2017-05-02</td>\n",
       "    </tr>\n",
       "  </tbody>\n",
       "</table>\n",
       "</div>"
      ],
      "text/plain": [
       "   visitors          air_store_id  visit_date\n",
       "0         0  air_00a91d42b08b08d9  2017-04-23\n",
       "1         0  air_00a91d42b08b08d9  2017-04-24\n",
       "2         0  air_00a91d42b08b08d9  2017-04-25\n",
       "3         0  air_00a91d42b08b08d9  2017-04-26\n",
       "4         0  air_00a91d42b08b08d9  2017-04-27\n",
       "5         0  air_00a91d42b08b08d9  2017-04-28\n",
       "6         0  air_00a91d42b08b08d9  2017-04-29\n",
       "7         0  air_00a91d42b08b08d9  2017-04-30\n",
       "8         0  air_00a91d42b08b08d9  2017-05-01\n",
       "9         0  air_00a91d42b08b08d9  2017-05-02"
      ]
     },
     "execution_count": 52,
     "metadata": {},
     "output_type": "execute_result"
    }
   ],
   "source": [
    "#convert id into store_id and visit dates\n",
    "df_submission['air_store_id']=df_submission['id'].str.split('_').str[1]\n",
    "df_submission['air_store_id'] = 'air_'+df_submission['air_store_id']\n",
    "df_submission['visit_date']=df_submission['id'].str.split('_').str[2]\n",
    "df_submission.drop(columns='id', inplace=True)\n",
    "df_submission.head(10)"
   ]
  },
  {
   "cell_type": "code",
   "execution_count": 57,
   "metadata": {},
   "outputs": [
    {
     "data": {
      "text/plain": [
       "set()"
      ]
     },
     "execution_count": 57,
     "metadata": {},
     "output_type": "execute_result"
    }
   ],
   "source": [
    "#stores in submission but not in air\n",
    "set(df_submission['air_store_id'].unique())-set(df_air['air_store_id'].unique())"
   ]
  },
  {
   "cell_type": "code",
   "execution_count": 50,
   "metadata": {},
   "outputs": [
    {
     "data": {
      "text/plain": [
       "air_store_id    829\n",
       "dtype: int64"
      ]
     },
     "execution_count": 50,
     "metadata": {},
     "output_type": "execute_result"
    }
   ],
   "source": [
    "df_air['air_store_id'].to_frame().merge(df_submission['air_store_id'].to_frame(), on='air_store_id', how='left').nunique()"
   ]
  },
  {
   "cell_type": "code",
   "execution_count": 48,
   "metadata": {},
   "outputs": [
    {
     "data": {
      "text/plain": [
       "air_store_id    821\n",
       "dtype: int64"
      ]
     },
     "execution_count": 48,
     "metadata": {},
     "output_type": "execute_result"
    }
   ],
   "source": [
    "df_air['air_store_id'].to_frame().merge(df_submission['air_store_id'].to_frame(), on='air_store_id', how='right').nunique()"
   ]
  },
  {
   "cell_type": "markdown",
   "metadata": {},
   "source": [
    "#### 829 stores in air, 821 of which appears in submission data"
   ]
  },
  {
   "cell_type": "code",
   "execution_count": 56,
   "metadata": {},
   "outputs": [
    {
     "data": {
      "text/plain": [
       "{'air_0ead98dd07e7a82a',\n",
       " 'air_229d7e508d9f1b5e',\n",
       " 'air_2703dcb33192b181',\n",
       " 'air_b2d8bc9c88b85f96',\n",
       " 'air_cb083b4789a8d3a2',\n",
       " 'air_cf22e368c1a71d53',\n",
       " 'air_d0a7bd3339c3d12a',\n",
       " 'air_d63cfa6d6ab78446'}"
      ]
     },
     "execution_count": 56,
     "metadata": {},
     "output_type": "execute_result"
    }
   ],
   "source": [
    "#air_store_id not appeared in submission\n",
    "set(df_air['air_store_id'].unique())-set(df_submission['air_store_id'].unique())"
   ]
  },
  {
   "cell_type": "code",
   "execution_count": 67,
   "metadata": {},
   "outputs": [
    {
     "data": {
      "text/html": [
       "<div>\n",
       "<style scoped>\n",
       "    .dataframe tbody tr th:only-of-type {\n",
       "        vertical-align: middle;\n",
       "    }\n",
       "\n",
       "    .dataframe tbody tr th {\n",
       "        vertical-align: top;\n",
       "    }\n",
       "\n",
       "    .dataframe thead th {\n",
       "        text-align: right;\n",
       "    }\n",
       "</style>\n",
       "<table border=\"1\" class=\"dataframe\">\n",
       "  <thead>\n",
       "    <tr style=\"text-align: right;\">\n",
       "      <th></th>\n",
       "      <th>air_store_id</th>\n",
       "      <th>visit_date</th>\n",
       "      <th>reserve_visitors</th>\n",
       "      <th>air_genre_name</th>\n",
       "      <th>air_area_name</th>\n",
       "      <th>latitude</th>\n",
       "      <th>longitude</th>\n",
       "      <th>visitors</th>\n",
       "      <th>day_of_week</th>\n",
       "      <th>holiday_flg</th>\n",
       "      <th>store_pos</th>\n",
       "    </tr>\n",
       "  </thead>\n",
       "  <tbody>\n",
       "  </tbody>\n",
       "</table>\n",
       "</div>"
      ],
      "text/plain": [
       "Empty DataFrame\n",
       "Columns: [air_store_id, visit_date, reserve_visitors, air_genre_name, air_area_name, latitude, longitude, visitors, day_of_week, holiday_flg, store_pos]\n",
       "Index: []"
      ]
     },
     "execution_count": 67,
     "metadata": {},
     "output_type": "execute_result"
    }
   ],
   "source": [
    "#see if reserve_visitors are all Null\n",
    "air_store_list=['air_0ead98dd07e7a82a',\n",
    " 'air_229d7e508d9f1b5e',\n",
    " 'air_2703dcb33192b181',\n",
    " 'air_b2d8bc9c88b85f96',\n",
    " 'air_cb083b4789a8d3a2',\n",
    " 'air_cf22e368c1a71d53',\n",
    " 'air_d0a7bd3339c3d12a',\n",
    " 'air_d63cfa6d6ab78446']\n",
    "df_air[(df_air['air_store_id'].isin(air_store_list)) & (df_air['reserve_visitors'].notnull())].head(10)"
   ]
  },
  {
   "cell_type": "markdown",
   "metadata": {},
   "source": [
    "#### All stores not in submission data have NaN reserve_visitors"
   ]
  },
  {
   "cell_type": "code",
   "execution_count": null,
   "metadata": {},
   "outputs": [],
   "source": []
  }
 ],
 "metadata": {
  "kernelspec": {
   "display_name": "Python 3",
   "language": "python",
   "name": "python3"
  },
  "language_info": {
   "codemirror_mode": {
    "name": "ipython",
    "version": 3
   },
   "file_extension": ".py",
   "mimetype": "text/x-python",
   "name": "python",
   "nbconvert_exporter": "python",
   "pygments_lexer": "ipython3",
   "version": "3.6.5"
  }
 },
 "nbformat": 4,
 "nbformat_minor": 2
}
