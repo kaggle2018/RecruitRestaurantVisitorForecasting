{
 "cells": [
  {
   "cell_type": "code",
   "execution_count": 1,
   "metadata": {
    "collapsed": true
   },
   "outputs": [],
   "source": [
    "import pandas as pd\n",
    "\n",
    "df_air_reserve = pd.read_csv(\"/Users/aa370031/Dropbox/学习资料/数据分析/kaggle/Recruit Restaurant Visitor Forecasting/air_reserve.csv\",low_memory=False)\n",
    "df_air_store_info = pd.read_csv(\"/Users/aa370031/Dropbox/学习资料/数据分析/kaggle/Recruit Restaurant Visitor Forecasting/air_store_info.csv\", low_memory=False)\n",
    "df_air_visit_data = pd.read_csv(\"/Users/aa370031/Dropbox/学习资料/数据分析/kaggle/Recruit Restaurant Visitor Forecasting/air_visit_data.csv\", low_memory=False)\n",
    "df_sample_submission = pd.read_csv(\"/Users/aa370031/Dropbox/学习资料/数据分析/kaggle/Recruit Restaurant Visitor Forecasting/sample_submission.csv\", low_memory=False)"
   ]
  },
  {
   "cell_type": "code",
   "execution_count": 2,
   "metadata": {},
   "outputs": [],
   "source": [
    "## 拆分提交数据中的id和date\n",
    "df_sample_submission['date'] = df_sample_submission.id\n",
    "def get_date(x):\n",
    "    return x.rsplit('_', 1)[-1]\n",
    "def get_id(x):\n",
    "    return x.rsplit('_', 1)[0]\n",
    "\n",
    "df_sample_submission.date = df_sample_submission.date.apply(lambda x: get_date(x))\n",
    "df_sample_submission.id = df_sample_submission.id.apply(lambda x: get_id(x))"
   ]
  },
  {
   "cell_type": "code",
   "execution_count": 3,
   "metadata": {},
   "outputs": [
    {
     "name": "stdout",
     "output_type": "stream",
     "text": [
      "0\n"
     ]
    }
   ],
   "source": [
    "## 检查要提交数据的id是否都存在于实际visit数据中\n",
    "count_num = 0\n",
    "\n",
    "for i in df_sample_submission.id.unique():\n",
    "    if i not in df_air_visit_data.air_store_id.unique():\n",
    "        count_num += 1\n",
    "\n",
    "print(count_num)"
   ]
  }
 ],
 "metadata": {
  "kernelspec": {
   "display_name": "Python 3",
   "language": "python",
   "name": "python3"
  },
  "language_info": {
   "codemirror_mode": {
    "name": "ipython",
    "version": 3
   },
   "file_extension": ".py",
   "mimetype": "text/x-python",
   "name": "python",
   "nbconvert_exporter": "python",
   "pygments_lexer": "ipython3",
   "version": "3.6.3"
  }
 },
 "nbformat": 4,
 "nbformat_minor": 2
}
